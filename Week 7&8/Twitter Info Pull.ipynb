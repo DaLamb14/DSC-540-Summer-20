{
 "cells": [
  {
   "cell_type": "code",
   "execution_count": 1,
   "metadata": {},
   "outputs": [],
   "source": [
    "import twitter"
   ]
  },
  {
   "cell_type": "code",
   "execution_count": 4,
   "metadata": {},
   "outputs": [
    {
     "name": "stdout",
     "output_type": "stream",
     "text": [
      "{\"created_at\": \"Fri Jul 24 16:18:47 +0000 2020\", \"default_profile\": true, \"friends_count\": 3, \"id\": 1286697216070029319, \"id_str\": \"1286697216070029319\", \"name\": \"Dani Lamb\", \"profile_background_color\": \"F5F8FA\", \"profile_image_url\": \"http://pbs.twimg.com/profile_images/1286697648716754945/P-w__Z5c_normal.jpg\", \"profile_image_url_https\": \"https://pbs.twimg.com/profile_images/1286697648716754945/P-w__Z5c_normal.jpg\", \"profile_link_color\": \"1DA1F2\", \"profile_sidebar_border_color\": \"C0DEED\", \"profile_sidebar_fill_color\": \"DDEEF6\", \"profile_text_color\": \"333333\", \"profile_use_background_image\": true, \"screen_name\": \"DaniLamb7\"}\n"
     ]
    }
   ],
   "source": [
    "api = twitter.Api(consumer_key='L46fU2CmYpnBl86N07uGEOPLa',\n",
    "  consumer_secret='fTcRsTqWmGCAMtBBBBBB9VI6FyKICXJkmmSN5OGznajmvRuegX',\n",
    "    access_token_key='1286697216070029319-A0b56UN6lzZdCBlP4xuTwJQDUL0oyz',\n",
    "    access_token_secret='wglrXHNhf2OHR1Wf2NtbX9PPfVsE5oileReI7NnXmyXLQ')\n",
    "print(api.VerifyCredentials())"
   ]
  },
  {
   "cell_type": "code",
   "execution_count": 6,
   "metadata": {},
   "outputs": [
    {
     "data": {
      "text/plain": [
       "[Status(ID=1286693754104053763, ScreenName=AaronKlenda, Created=Fri Jul 24 16:04:31 +0000 2020, Text='RT @Davidson28B: I am excited to announce my commitment to Bellevue University to continue my academic and athletic career. Thank you to my…'),\n",
       " Status(ID=1286663470210048005, ScreenName=lscuclibrary, Created=Fri Jul 24 14:04:11 +0000 2020, Text='Bellevue University Degree Programs at LSC-University Center #lscuc #studentsuccess https://t.co/YyZWwuleQW'),\n",
       " Status(ID=1286658906102669312, ScreenName=PBR_Nebraska, Created=Fri Jul 24 13:46:02 +0000 2020, Text='RT @zaneleyden: Excited to announce my commitment to further my academic and athletic career at Bellevue University. Huge thank you to my f…'),\n",
       " Status(ID=1286619412813012992, ScreenName=willthrill18, Created=Fri Jul 24 11:09:06 +0000 2020, Text='RT @zaneleyden: Excited to announce my commitment to further my academic and athletic career at Bellevue University. Huge thank you to my f…'),\n",
       " Status(ID=1286618925028061186, ScreenName=meyer_landon, Created=Fri Jul 24 11:07:10 +0000 2020, Text='RT @zaneleyden: Excited to announce my commitment to further my academic and athletic career at Bellevue University. Huge thank you to my f…'),\n",
       " Status(ID=1286526693054832641, ScreenName=JackOelke12, Created=Fri Jul 24 05:00:40 +0000 2020, Text='RT @zaneleyden: Excited to announce my commitment to further my academic and athletic career at Bellevue University. Huge thank you to my f…'),\n",
       " Status(ID=1286515345918918662, ScreenName=Zach_Guthard, Created=Fri Jul 24 04:15:35 +0000 2020, Text='RT @zaneleyden: Excited to announce my commitment to further my academic and athletic career at Bellevue University. Huge thank you to my f…'),\n",
       " Status(ID=1286498004321611780, ScreenName=JoelBenes, Created=Fri Jul 24 03:06:40 +0000 2020, Text='RT @zaneleyden: Excited to announce my commitment to further my academic and athletic career at Bellevue University. Huge thank you to my f…'),\n",
       " Status(ID=1286497251871690752, ScreenName=Norris_Baseball, Created=Fri Jul 24 03:03:41 +0000 2020, Text='Congrats to @zaneleyden on his commitment to Bellevue University! https://t.co/JOUVz6GQv5'),\n",
       " Status(ID=1286490057994641412, ScreenName=grant_stone23, Created=Fri Jul 24 02:35:06 +0000 2020, Text='RT @zaneleyden: Excited to announce my commitment to further my academic and athletic career at Bellevue University. Huge thank you to my f…'),\n",
       " Status(ID=1286485335367712771, ScreenName=zaneleyden, Created=Fri Jul 24 02:16:20 +0000 2020, Text='Excited to announce my commitment to further my academic and athletic career at Bellevue University. Huge thank you… https://t.co/CbPkkD9E0k'),\n",
       " Status(ID=1286325755987873794, ScreenName=libster__9, Created=Thu Jul 23 15:42:13 +0000 2020, Text='RT @reese_floro: I am proud to announce my commitment to Bellevue University to continue my academic and softball career!! I would like to…'),\n",
       " Status(ID=1286317250924802048, ScreenName=imluciusbeach, Created=Thu Jul 23 15:08:25 +0000 2020, Text='@__DavidFlanagan just bought your JS: The Definitive Guide 6th Edition to assist me at Bellevue University Online W… https://t.co/U78iqeSSfk'),\n",
       " Status(ID=1286147025763995648, ScreenName=bremcmurtry08, Created=Thu Jul 23 03:52:01 +0000 2020, Text='RT @reese_floro: I am proud to announce my commitment to Bellevue University to continue my academic and softball career!! I would like to…'),\n",
       " Status(ID=1286132230646104064, ScreenName=Karlie_Chonis, Created=Thu Jul 23 02:53:13 +0000 2020, Text='RT @reese_floro: I am proud to announce my commitment to Bellevue University to continue my academic and softball career!! I would like to…')]"
      ]
     },
     "execution_count": 6,
     "metadata": {},
     "output_type": "execute_result"
    }
   ],
   "source": [
    "api.GetSearch(term='Bellevue University')"
   ]
  },
  {
   "cell_type": "code",
   "execution_count": 7,
   "metadata": {},
   "outputs": [
    {
     "data": {
      "text/plain": [
       "[Status(ID=1286571294561951744, ScreenName=tedlieu, Created=Fri Jul 24 07:57:54 +0000 2020, Text='Dear @CDCDirector: You testified under oath that @CDCgov would be “data driven” and “science based.” You lied. This… https://t.co/52D7rTfGNh'),\n",
       " Status(ID=1286461599923019776, ScreenName=dbongino, Created=Fri Jul 24 00:42:01 +0000 2020, Text='She still refuses to cite the REAL data because she’s fully committed to lying to you. This is how gaslighting and… https://t.co/57ITOxYC6Z'),\n",
       " Status(ID=1286525244157591555, ScreenName=NPR, Created=Fri Jul 24 04:54:55 +0000 2020, Text='Researchers analyzed the data from every study on the protective effect of masks. \\n\\nTheir bottom-line estimate: If… https://t.co/KLudxGgfHb'),\n",
       " Status(ID=1286705062086160384, ScreenName=LenoreRaven, Created=Fri Jul 24 16:49:27 +0000 2020, Text='RT @tedlieu: Dear @CDCDirector: You testified under oath that @CDCgov would be “data driven” and “science based.” You lied. This new CDC do…'),\n",
       " Status(ID=1286705046344933378, ScreenName=maley_dorina, Created=Fri Jul 24 16:49:23 +0000 2020, Text=\"RT @vtdigger: .@GovPhilScott's message to mask skeptics: “Look at the data, the real data; realize the science is real...Wearing a mask wil…\"),\n",
       " Status(ID=1286705041466781697, ScreenName=DMSWC, Created=Fri Jul 24 16:49:22 +0000 2020, Text='RT @tedlieu: Dear @CDCDirector: You testified under oath that @CDCgov would be “data driven” and “science based.” You lied. This new CDC do…'),\n",
       " Status(ID=1286705003776880641, ScreenName=salvoplatania, Created=Fri Jul 24 16:49:13 +0000 2020, Text='RT @IBMDeveloper: Data science tools for data-driven decision making &amp; machine learning on scalable platforms, including Spark and TensorFl…'),\n",
       " Status(ID=1286705002929586176, ScreenName=mike_schietzelt, Created=Fri Jul 24 16:49:13 +0000 2020, Text='@jonpsanders Science. And. Data.'),\n",
       " Status(ID=1286704988153159680, ScreenName=cass41543488, Created=Fri Jul 24 16:49:09 +0000 2020, Text='RT @NPR: Researchers analyzed the data from every study on the protective effect of masks. \\n\\nTheir bottom-line estimate: If 95% of people w…'),\n",
       " Status(ID=1286704978262974467, ScreenName=tamisawyer, Created=Fri Jul 24 16:49:07 +0000 2020, Text='RT @SCSSuptRay: Public safety cannot be about politics, it MUST be about SCIENCE — it is the science that district leaders are relying on t…'),\n",
       " Status(ID=1286704977122009088, ScreenName=takewingca, Created=Fri Jul 24 16:49:07 +0000 2020, Text='RT @allinwithchris: “As a teacher one of your primary concerns is keeping your students safe,” says Rep. Hayes. “I don’t know how any of my…'),\n",
       " Status(ID=1286704975922393088, ScreenName=VladGorenshteyn, Created=Fri Jul 24 16:49:06 +0000 2020, Text=\"#Marketing is as much art as it is a science -- both of which must be supported by user-generated data. There's jus… https://t.co/0u3DSOYUhr\"),\n",
       " Status(ID=1286704953239666690, ScreenName=CynthiaPeet, Created=Fri Jul 24 16:49:01 +0000 2020, Text='RT @tedlieu: Dear @CDCDirector: You testified under oath that @CDCgov would be “data driven” and “science based.” You lied. This new CDC do…'),\n",
       " Status(ID=1286704940325326848, ScreenName=CBBBLUES, Created=Fri Jul 24 16:48:58 +0000 2020, Text=\"@pklinkne Trumpism is as much about contrarianism as anything else. Whether or not it's a good idea is irrelevant.… https://t.co/hFHfRELQK4\"),\n",
       " Status(ID=1286704930124738561, ScreenName=ArtisticEye1, Created=Fri Jul 24 16:48:55 +0000 2020, Text='RT @tedlieu: Dear @CDCDirector: You testified under oath that @CDCgov would be “data driven” and “science based.” You lied. This new CDC do…')]"
      ]
     },
     "execution_count": 7,
     "metadata": {},
     "output_type": "execute_result"
    }
   ],
   "source": [
    "api.GetSearch(term='Data Science')"
   ]
  },
  {
   "cell_type": "code",
   "execution_count": null,
   "metadata": {},
   "outputs": [],
   "source": []
  }
 ],
 "metadata": {
  "kernelspec": {
   "display_name": "Python 3",
   "language": "python",
   "name": "python3"
  },
  "language_info": {
   "codemirror_mode": {
    "name": "ipython",
    "version": 3
   },
   "file_extension": ".py",
   "mimetype": "text/x-python",
   "name": "python",
   "nbconvert_exporter": "python",
   "pygments_lexer": "ipython3",
   "version": "3.7.4"
  }
 },
 "nbformat": 4,
 "nbformat_minor": 4
}
