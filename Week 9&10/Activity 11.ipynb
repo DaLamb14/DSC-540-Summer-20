{
 "cells": [
  {
   "cell_type": "markdown",
   "metadata": {},
   "source": [
    "### Task 1: (Connect to the supplied petsDB, and (OPTIONAL) write a function to check if the connection is done)"
   ]
  },
  {
   "cell_type": "code",
   "execution_count": 1,
   "metadata": {},
   "outputs": [],
   "source": [
    "import sqlite3"
   ]
  },
  {
   "cell_type": "code",
   "execution_count": 2,
   "metadata": {},
   "outputs": [],
   "source": [
    "petsDB = sqlite3.connect(\"petsdb\")"
   ]
  },
  {
   "cell_type": "code",
   "execution_count": 3,
   "metadata": {},
   "outputs": [],
   "source": [
    "def connection(conn):\n",
    "    try:\n",
    "        conn.execute(\"SELECT * FROM persons LIMIT 1\")\n",
    "        print(\"Connection successful\")\n",
    "    except sqlite3.ProgrammingError as e:\n",
    "        print(\"There was an error\".format(e))"
   ]
  },
  {
   "cell_type": "code",
   "execution_count": 4,
   "metadata": {},
   "outputs": [
    {
     "name": "stdout",
     "output_type": "stream",
     "text": [
      "Connection successful\n"
     ]
    }
   ],
   "source": [
    "connection(petsDB)"
   ]
  },
  {
   "cell_type": "code",
   "execution_count": 5,
   "metadata": {},
   "outputs": [],
   "source": [
    "petsDB.close()"
   ]
  },
  {
   "cell_type": "code",
   "execution_count": 6,
   "metadata": {},
   "outputs": [
    {
     "name": "stdout",
     "output_type": "stream",
     "text": [
      "There was an error\n"
     ]
    }
   ],
   "source": [
    "connection(petsDB)"
   ]
  },
  {
   "cell_type": "markdown",
   "metadata": {},
   "source": [
    "### Task 2: (What are the different age groups in the persons database)"
   ]
  },
  {
   "cell_type": "code",
   "execution_count": 7,
   "metadata": {},
   "outputs": [],
   "source": [
    "petsDB = sqlite3.connect(\"petsdb\")"
   ]
  },
  {
   "cell_type": "code",
   "execution_count": 8,
   "metadata": {},
   "outputs": [],
   "source": [
    "curs = petsDB.cursor()"
   ]
  },
  {
   "cell_type": "code",
   "execution_count": 10,
   "metadata": {},
   "outputs": [
    {
     "name": "stdout",
     "output_type": "stream",
     "text": [
      "There are 2 people at age 5\n",
      "There are 1 people at age 6\n",
      "There are 1 people at age 7\n",
      "There are 3 people at age 8\n",
      "There are 1 people at age 9\n",
      "There are 2 people at age 11\n",
      "There are 3 people at age 12\n",
      "There are 1 people at age 13\n",
      "There are 4 people at age 14\n",
      "There are 2 people at age 16\n",
      "There are 2 people at age 17\n",
      "There are 3 people at age 18\n",
      "There are 1 people at age 19\n",
      "There are 3 people at age 22\n",
      "There are 2 people at age 23\n",
      "There are 3 people at age 24\n",
      "There are 2 people at age 25\n",
      "There are 1 people at age 27\n",
      "There are 1 people at age 30\n",
      "There are 3 people at age 31\n",
      "There are 1 people at age 32\n",
      "There are 1 people at age 33\n",
      "There are 2 people at age 34\n",
      "There are 3 people at age 35\n",
      "There are 3 people at age 36\n",
      "There are 1 people at age 37\n",
      "There are 2 people at age 39\n",
      "There are 1 people at age 40\n",
      "There are 1 people at age 42\n",
      "There are 2 people at age 44\n",
      "There are 2 people at age 48\n",
      "There are 1 people at age 49\n",
      "There are 1 people at age 50\n",
      "There are 2 people at age 51\n",
      "There are 2 people at age 52\n",
      "There are 2 people at age 53\n",
      "There are 2 people at age 54\n",
      "There are 1 people at age 58\n",
      "There are 1 people at age 59\n",
      "There are 1 people at age 60\n",
      "There are 1 people at age 61\n",
      "There are 2 people at age 62\n",
      "There are 1 people at age 63\n",
      "There are 2 people at age 65\n",
      "There are 2 people at age 66\n",
      "There are 1 people at age 67\n",
      "There are 3 people at age 68\n",
      "There are 1 people at age 69\n",
      "There are 1 people at age 70\n",
      "There are 4 people at age 71\n",
      "There are 1 people at age 72\n",
      "There are 5 people at age 73\n",
      "There are 3 people at age 74\n"
     ]
    }
   ],
   "source": [
    "for people, age in curs.execute(\"SELECT count(*), age FROM persons GROUP BY age\"):\n",
    "    print(\"There are {} people at age {}\".format(people, age))"
   ]
  },
  {
   "cell_type": "code",
   "execution_count": null,
   "metadata": {},
   "outputs": [],
   "source": []
  },
  {
   "cell_type": "code",
   "execution_count": null,
   "metadata": {},
   "outputs": [],
   "source": []
  },
  {
   "cell_type": "markdown",
   "metadata": {},
   "source": [
    "### Task 3: Which age group has maximum number of people?"
   ]
  },
  {
   "cell_type": "code",
   "execution_count": 11,
   "metadata": {},
   "outputs": [
    {
     "name": "stdout",
     "output_type": "stream",
     "text": [
      "The maximum is 5 at age 73\n"
     ]
    }
   ],
   "source": [
    "for people, age in curs.execute(\"SELECT count(*), age FROM persons GROUP BY age ORDER BY count(*) DESC\"):\n",
    "    print(\"The maximum is {} at age {}\".format(people, age))\n",
    "    break"
   ]
  },
  {
   "cell_type": "markdown",
   "metadata": {},
   "source": [
    "### Task 4: How many people do not have a full name (Last name is blank/null)"
   ]
  },
  {
   "cell_type": "code",
   "execution_count": 12,
   "metadata": {},
   "outputs": [
    {
     "name": "stdout",
     "output_type": "stream",
     "text": [
      "(60,)\n"
     ]
    }
   ],
   "source": [
    "null = curs.execute(\"SELECT count(*) FROM persons WHERE last_name IS null\")\n",
    "for row in null:\n",
    "    print(row)"
   ]
  },
  {
   "cell_type": "markdown",
   "metadata": {},
   "source": [
    "### Task 5: How many people has more than one pet? (*)"
   ]
  },
  {
   "cell_type": "code",
   "execution_count": 15,
   "metadata": {},
   "outputs": [
    {
     "name": "stdout",
     "output_type": "stream",
     "text": [
      "The number of people with more than one pet is 43\n"
     ]
    }
   ],
   "source": [
    "pet = curs.execute(\"SELECT count(*) FROM (SELECT count(owner_id) FROM pets GROUP BY owner_id HAVING count(owner_id) >1)\")\n",
    "for row in pet:\n",
    "    print(\"The number of people with more than one pet is {}\".format(row[0]))"
   ]
  },
  {
   "cell_type": "markdown",
   "metadata": {},
   "source": [
    "### Task 6: How many pets have received treaments?\n"
   ]
  },
  {
   "cell_type": "code",
   "execution_count": 16,
   "metadata": {},
   "outputs": [
    {
     "name": "stdout",
     "output_type": "stream",
     "text": [
      "(36,)\n"
     ]
    }
   ],
   "source": [
    "treat = curs.execute(\"SELECT count(*) FROM pets WHERE treatment_done=1\")\n",
    "for row in treat:\n",
    "    print(row)"
   ]
  },
  {
   "cell_type": "markdown",
   "metadata": {},
   "source": [
    "### Task 7: How many pets have received treatment that we know the type of?"
   ]
  },
  {
   "cell_type": "code",
   "execution_count": 17,
   "metadata": {},
   "outputs": [
    {
     "name": "stdout",
     "output_type": "stream",
     "text": [
      "(16,)\n"
     ]
    }
   ],
   "source": [
    "trtype = curs.execute(\"SELECT count(*) FROM pets WHERE treatment_done=1 AND pet_type IS NOT null\")\n",
    "for row in trtype:\n",
    "    print(row)"
   ]
  },
  {
   "cell_type": "markdown",
   "metadata": {},
   "source": [
    "### Task 8: How many pets are there from the city called \"east port\""
   ]
  },
  {
   "cell_type": "code",
   "execution_count": 18,
   "metadata": {},
   "outputs": [
    {
     "name": "stdout",
     "output_type": "stream",
     "text": [
      "(49,)\n"
     ]
    }
   ],
   "source": [
    "EP = curs.execute(\"SELECT count(*) FROM pets JOIN persons ON pets.owner_id = persons.id WHERE persons.city='east port'\")\n",
    "for row in EP:\n",
    "    print(row)"
   ]
  },
  {
   "cell_type": "markdown",
   "metadata": {},
   "source": [
    "### Task 9: How many pets are there from the city called \"east port\" and who received a treatment?"
   ]
  },
  {
   "cell_type": "code",
   "execution_count": 19,
   "metadata": {},
   "outputs": [
    {
     "name": "stdout",
     "output_type": "stream",
     "text": [
      "(11,)\n"
     ]
    }
   ],
   "source": [
    "EPtreat = curs.execute(\"SELECT count(*) FROM pets JOIN persons ON pets.owner_id = persons.id WHERE persons.city='east port' AND pets.treatment_done=1\")\n",
    "for row in EPtreat:\n",
    "    print(row)"
   ]
  },
  {
   "cell_type": "code",
   "execution_count": null,
   "metadata": {},
   "outputs": [],
   "source": []
  }
 ],
 "metadata": {
  "kernelspec": {
   "display_name": "Python 3",
   "language": "python",
   "name": "python3"
  },
  "language_info": {
   "codemirror_mode": {
    "name": "ipython",
    "version": 3
   },
   "file_extension": ".py",
   "mimetype": "text/x-python",
   "name": "python",
   "nbconvert_exporter": "python",
   "pygments_lexer": "ipython3",
   "version": "3.7.4"
  }
 },
 "nbformat": 4,
 "nbformat_minor": 4
}
