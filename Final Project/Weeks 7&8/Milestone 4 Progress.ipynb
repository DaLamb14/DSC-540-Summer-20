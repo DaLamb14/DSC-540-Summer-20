{
 "cells": [
  {
   "cell_type": "markdown",
   "metadata": {},
   "source": [
    "# API Dataset"
   ]
  },
  {
   "cell_type": "code",
   "execution_count": 2,
   "metadata": {},
   "outputs": [
    {
     "name": "stderr",
     "output_type": "stream",
     "text": [
      "C:\\Users\\datre\\Anaconda3\\lib\\site-packages\\statsmodels\\tools\\_testing.py:19: FutureWarning: pandas.util.testing is deprecated. Use the functions in the public API at pandas.testing instead.\n",
      "  import pandas.util.testing as tm\n"
     ]
    }
   ],
   "source": [
    "import pandas as pd\n",
    "import seaborn as sns\n",
    "import numpy as np\n",
    "import matplotlib.pyplot as plt\n",
    "import matplotlib.dates as mdates\n",
    "from matplotlib import style\n",
    "import urllib.request, urllib.parse\n",
    "from urllib.error import HTTPError, URLError\n",
    "from urllib.request import urlretrieve as retrieve\n",
    "import json\n",
    "import requests\n",
    "from bs4 import BeautifulSoup\n",
    "import pprint\n",
    "import csv\n",
    "import netCDF4\n",
    "from pandasql import sqldf\n",
    "import sqlite3\n",
    "import datetime"
   ]
  },
  {
   "cell_type": "code",
   "execution_count": 3,
   "metadata": {},
   "outputs": [
    {
     "name": "stdout",
     "output_type": "stream",
     "text": [
      "CONTENT b'<?xml version=\"1.0\"?>\\n<os:OpenSearchDescription\\n\\txmlns:os=\"http://a9.com/-/spec/opensearch/1.1/\"\\n\\txmlns:echo=\"https://cmr.earthdata.nasa.gov/search/site/docs/search/api.html#atom\"\\n\\txmlns:geo=\"http://a9.com/-/opensearch/extensions/geo/1.0/\"\\n\\txmlns:time=\"http://a9.com/-/opensearch/extensions/time/1.0/\"\\n\\txmlns:esipdiscovery=\"http://commons.esipfed.org/ns/discovery/1.2/\" esipdiscovery:version=\"1.2\"\\n\\txmlns:params=\"http://a9.com/-/spec/opensearch/extensions/parameters/1.0/\"\\n\\txmlns:referrer=\"http://www.opensearch.org/Specifications/OpenSearch/Extensions/Referrer/1.0\"\\n\\txmlns:eo=\"http://a9.com/-/opensearch/extensions/eo/1.0/\"\\n\\txmlns:atom=\"http://www.w3.org/2005/Atom\">\\n\\t<os:ShortName>CMR Granules</os:ShortName>\\n\\t<os:Description>NASA CMR Granule search using geo, time and parameter extensions</os:Description>\\n\\t<os:Tags>CMR NASA CWIC CEOS-OS-BP-V1.1/L3 ESIP OGC granule pageOffset=1 indexOffset=0</os:Tags>\\n\\t<os:Contact>echodev@echo.nasa.gov</os:Contact>\\n\\t<os:Url type=\"application/atom+xml\" rel=\"results\"\\n\\t  params:method=\"GET\"\\n\\t  template=\"https://cmr.earthdata.nasa.gov/opensearch/granules.atom?datasetId={echo:datasetId?}&amp;shortName=CMS_Monthly_CO2_Gulf_of_Mexico_1668&amp;versionId=1&amp;dataCenter=ORNL_DAAC&amp;boundingBox={geo:box?}&amp;geometry={geo:geometry?}&amp;placeName={geo:name?}&amp;startTime={time:start?}&amp;endTime={time:end?}&amp;cursor={os:startPage?}&amp;numberOfResults={os:count?}&amp;offset={os:startIndex?}&amp;uid={geo:uid?}&amp;parentIdentifier={eo:parentIdentifier?}&amp;clientId=eed-edsc-prod-serverless-client\">\\n\\t  <params:Parameter name=\"datasetId\" uiDisplay=\"Collection identifier\" value=\"{echo:datasetId}\" title=\"Inventory associated with a dataset expressed as an ID\" minimum=\"0\"/>\\n\\t  <params:Parameter name=\"boundingBox\" uiDisplay=\"Bounding box\" value=\"{geo:box}\" title=\"Inventory with a spatial extent overlapping this bounding box\" minimum=\"0\"/>\\n\\t  <params:Parameter name=\"geometry\" uiDisplay=\"Geometry\" value=\"{geo:geometry}\" title=\"Inventory with a spatial extent overlapping this geometry\" minimum=\"0\">\\n\\t    <atom:link rel=\"profile\" href=\"http://www.opengis.net/wkt/LINESTRING\" title=\"This service accepts WKT LineStrings\"/>\\n\\t    <atom:link rel=\"profile\" href=\"http://www.opengis.net/wkt/POINT\" title=\"This service accepts WKT Points\"/>\\n\\t    <atom:link rel=\"profile\" href=\"http://www.opengis.net/wkt/POLYGON\" title=\"This service accepts WKT Polygons\"/>\\n\\t  </params:Parameter>\\n\\t  <params:Parameter name=\"placeName\" uiDisplay=\"Place name\" value=\"{geo:name}\" title=\"Inventory with a spatial location described by this name\" minimum=\"0\"/>\\n\\t  <params:Parameter name=\"startTime\" uiDisplay=\"Start time\" value=\"{time:start}\" title=\"Inventory with a temporal extent containing this start time\" minimum=\"0\"/>\\n\\t  <params:Parameter name=\"endTime\" uiDisplay=\"End time\" value=\"{time:end}\" title=\"Inventory with a temporal extent containing this end time\" minimum=\"0\"/>\\n    <params:Parameter name=\"cursor\" uiDisplay=\"Start page\" value=\"{os:startPage}\" title=\"Start page for the search result\" minimum=\"0\" />\\n    <params:Parameter name=\"numberOfResults\" uiDisplay=\"Number of results\" value=\"{os:count}\" title=\"Maximum number of records in the search result\" minimum=\"0\" maxInclusive=\"2000\"/>\\n\\t  <params:Parameter name=\"offset\" uiDisplay=\"Start index\" value=\"{os:startIndex}\" title=\"0-based offset used to skip the specified number of results in the search result set\" minimum=\"0\"/>\\n\\t  <params:Parameter name=\"uid\" uiDisplay=\"Unique identifier identifier\" value=\"{geo:uid}\" title=\"Inventory associated with this unique ID\" minimum=\"0\"/>\\n\\t  <params:Parameter name=\"parentIdentifier\" uiDisplay=\"CMR Collection concept identifier\" value=\"{eo:parentIdentifier}\" title=\"Inventory associated with a dataset expressed as a CMR concept ID\" minimum=\"0\"/>\\n\\t  <params:Parameter name=\"clientId\" uiDisplay=\"Client identifier\" value=\"{referrer:source}\" title=\"Client identifier to be used for metrics\" minimum=\"0\"/>\\n\\t</os:Url>\\n\\t<os:Url type=\"text/html\" rel=\"results\"\\n\\t  params:method=\"GET\"\\n\\t  template=\"https://cmr.earthdata.nasa.gov/opensearch/granules.html?datasetId={echo:datasetId?}&amp;shortName=CMS_Monthly_CO2_Gulf_of_Mexico_1668&amp;versionId=1&amp;dataCenter=ORNL_DAAC&amp;boundingBox={geo:box?}&amp;geometry={geo:geometry?}&amp;placeName={geo:name?}&amp;startTime={time:start?}&amp;endTime={time:end?}&amp;cursor={os:startPage?}&amp;numberOfResults={os:count?}&amp;offset={os:startIndex?}&amp;uid={geo:uid?}&amp;parentIdentifier={eo:parentIdentifier?}&amp;clientId=eed-edsc-prod-serverless-client\">\\n\\t  <params:Parameter name=\"datasetId\" uiDisplay=\"Collection identifier\" value=\"{echo:datasetId}\" title=\"Inventory associated with a dataset expressed as an ID\" minimum=\"0\"/>\\n\\t  <params:Parameter name=\"boundingBox\" uiDisplay=\"Bounding box\" value=\"{geo:box}\" title=\"Inventory with a spatial extent overlapping this bounding box\" minimum=\"0\"/>\\n\\t  <params:Parameter name=\"geometry\" uiDisplay=\"Geometry\" value=\"{geo:geometry}\" title=\"Inventory with a spatial extent overlapping this geometry\" minimum=\"0\">\\n\\t    <atom:link rel=\"profile\" href=\"http://www.opengis.net/wkt/LINESTRING\" title=\"This service accepts WKT LineStrings\"/>\\n\\t  \\t<atom:link rel=\"profile\" href=\"http://www.opengis.net/wkt/POINT\" title=\"This service accepts WKT Points\"/>\\n\\t  \\t<atom:link rel=\"profile\" href=\"http://www.opengis.net/wkt/POLYGON\" title=\"This service accepts WKT Polygons\"/>\\n\\t  </params:Parameter>\\n\\t  <params:Parameter name=\"placeName\" uiDisplay=\"Place name\" value=\"{geo:name}\" title=\"Inventory with a spatial location described by this name\" minimum=\"0\"/>\\n\\t  <params:Parameter name=\"startTime\" uiDisplay=\"Start time\" value=\"{time:start}\" title=\"Inventory with a temporal extent containing this start time\" minimum=\"0\"/>\\n\\t  <params:Parameter name=\"endTime\" uiDisplay=\"End time\" value=\"{time:end}\" title=\"Inventory with a temporal extent containing this end time\" minimum=\"0\"/>\\n    <params:Parameter name=\"cursor\" uiDisplay=\"Start page\" value=\"{os:startPage}\" title=\"Start page for the search result\" minimum=\"0\" />\\n    <params:Parameter name=\"numberOfResults\" uiDisplay=\"Number of results\" value=\"{os:count}\" title=\"Maximum number of records in the search result\" minimum=\"0\" maxInclusive=\"2000\"/>\\n\\t  <params:Parameter name=\"offset\" uiDisplay=\"Start index\" value=\"{os:startIndex}\" title=\"0-based offset used to skip the specified number of results in the search result set\" minimum=\"0\"/>\\n\\t  <params:Parameter name=\"uid\" uiDisplay=\"Unique identifier identifier\" value=\"{geo:uid}\" title=\"Inventory associated with this unique ID\" minimum=\"0\"/>\\n\\t  <params:Parameter name=\"parentIdentifier\" uiDisplay=\"CMR Collection concept identifier\" value=\"{eo:parentIdentifier}\" title=\"Inventory associated with a dataset expressed as a CMR concept ID\" minimum=\"0\"/>\\n\\t  <params:Parameter name=\"clientId\" uiDisplay=\"Client identifier\" value=\"{referrer:source}\" title=\"Client identifier to be used for metrics\" minimum=\"0\"/>\\n\\t</os:Url>\\n\\t<os:Query role=\"example\"\\n\\t\\techo:shortName=\"MOD02QKM\"\\n\\t\\techo:versionId=\"005\"\\n\\t\\techo:dataCenter=\"LAADS\"\\n\\t\\tgeo:box=\"-180.0,-90.0,180.0,90.0\"\\n\\t\\ttime:start=\"2002-05-04T00:00:00Z\"\\n\\t\\ttime:end=\"2009-05-04T00:00:00Z\"\\n\\t\\ttitle=\"Sample search\" />\\n\\t<os:Attribution>NASA CMR</os:Attribution>\\n\\t<os:SyndicationRight>open</os:SyndicationRight>\\n</os:OpenSearchDescription>\\n'\n"
     ]
    }
   ],
   "source": [
    "url = \"https://cmr.earthdata.nasa.gov/opensearch/granules/descriptor_document.xml?clientId=eed-edsc-prod-serverless-client&shortName=CMS_Monthly_CO2_Gulf_of_Mexico_1668&versionId=1&dataCenter=ORNL_DAAC\"\n",
    "r = requests.get(url)\n",
    "print(\"CONTENT\", r.content)"
   ]
  },
  {
   "cell_type": "markdown",
   "metadata": {},
   "source": [
    "need: template=\"https://cmr.earthdata.nasa.gov/opensearch/granules.html?datasetId={echo:datasetId?}&amp;shortName=CMS_Monthly_CO2_Gulf_of_Mexico_1668&amp;versionId=1&amp;dataCenter=ORNL_DAAC&amp;boundingBox={geo:box?}&amp;geometry={geo:geometry?}&amp;placeName={geo:name?}&amp;startTime={time:start?}&amp;endTime={time:end?}&amp;cursor={os:startPage?}&amp;numberOfResults={os:count?}&amp;offset={os:startIndex?}&amp;uid={geo:uid?}&amp;parentIdentifier={eo:parentIdentifier?}&amp;clientId=eed-edsc-prod-serverless-client\""
   ]
  },
  {
   "cell_type": "code",
   "execution_count": 8,
   "metadata": {},
   "outputs": [
    {
     "data": {
      "text/plain": [
       "<class 'netCDF4._netCDF4.Dataset'>\n",
       "root group (NETCDF4_CLASSIC data model, file format HDF5):\n",
       "    Conventions: CF-1.6\n",
       "    title: Monthly Satellite-Estimated pCO2 and air-sea flux of CO2 for Northern Gulf of Mexico, 2006-2010\n",
       "    institution: Oak Ridge National Laboratory (ORNL) Distributed Active Archive Center (DAAC)\n",
       "    references: Lohrenz, S.E., Cai, W.J., Chakraborty, S., Huang, W.J., Guo, X., He, R., Xue, Z., Fennel, K., Howden, S. and Tian, H. 2018. Satellite estimation of coastal pCO2 and air-sea flux of carbon dioxide in the northern Gulf of Mexico. Remote Sensing of Environment, 207:71-83. doi.org/10.1016/j.rse.2017.12.039\n",
       "    source: Version 1, funding from NASA's Carbon Monitoring System\n",
       "    dimensions(sizes): time(60), nv(2), lon(960), lat(672)\n",
       "    variables(dimensions): float64 time(time), float64 time_bnds(time, nv), float64 CO2_flux(time, lon, lat), float64 PCO2(time, lon, lat), float64 lat(lat), float64 lon(lon), float64 crs()\n",
       "    groups: "
      ]
     },
     "execution_count": 8,
     "metadata": {},
     "output_type": "execute_result"
    }
   ],
   "source": [
    "path = r\"C:\\\\Users\\\\datre\\\\OneDrive\\\\Documents\\\\Graduate School\\\\Summer '20\\\\pco2_co2_flux.nc\"\n",
    "nc = netCDF4.Dataset(path)\n",
    "nc"
   ]
  },
  {
   "cell_type": "code",
   "execution_count": 9,
   "metadata": {},
   "outputs": [
    {
     "name": "stdout",
     "output_type": "stream",
     "text": [
      "time days since 2006-01-01 (60,)\n",
      "time_bnds days since 2006-01-01 (60, 2)\n",
      "CO2_flux mmol m-2 s-1 (60, 960, 672)\n",
      "PCO2 Pa (60, 960, 672)\n",
      "lat degrees_north (672,)\n",
      "lon degrees_east (960,)\n"
     ]
    },
    {
     "ename": "AttributeError",
     "evalue": "NetCDF: Attribute not found",
     "output_type": "error",
     "traceback": [
      "\u001b[1;31m---------------------------------------------------------------------------\u001b[0m",
      "\u001b[1;31mAttributeError\u001b[0m                            Traceback (most recent call last)",
      "\u001b[1;32m<ipython-input-9-64a4bfe2229c>\u001b[0m in \u001b[0;36m<module>\u001b[1;34m\u001b[0m\n\u001b[0;32m      1\u001b[0m \u001b[1;32mfor\u001b[0m \u001b[0mi\u001b[0m \u001b[1;32min\u001b[0m \u001b[0mnc\u001b[0m\u001b[1;33m.\u001b[0m\u001b[0mvariables\u001b[0m\u001b[1;33m:\u001b[0m\u001b[1;33m\u001b[0m\u001b[1;33m\u001b[0m\u001b[0m\n\u001b[1;32m----> 2\u001b[1;33m     \u001b[0mprint\u001b[0m\u001b[1;33m(\u001b[0m\u001b[0mi\u001b[0m\u001b[1;33m,\u001b[0m \u001b[0mnc\u001b[0m\u001b[1;33m.\u001b[0m\u001b[0mvariables\u001b[0m\u001b[1;33m[\u001b[0m\u001b[0mi\u001b[0m\u001b[1;33m]\u001b[0m\u001b[1;33m.\u001b[0m\u001b[0munits\u001b[0m\u001b[1;33m,\u001b[0m \u001b[0mnc\u001b[0m\u001b[1;33m.\u001b[0m\u001b[0mvariables\u001b[0m\u001b[1;33m[\u001b[0m\u001b[0mi\u001b[0m\u001b[1;33m]\u001b[0m\u001b[1;33m.\u001b[0m\u001b[0mshape\u001b[0m\u001b[1;33m)\u001b[0m\u001b[1;33m\u001b[0m\u001b[1;33m\u001b[0m\u001b[0m\n\u001b[0m",
      "\u001b[1;32mnetCDF4\\_netCDF4.pyx\u001b[0m in \u001b[0;36mnetCDF4._netCDF4.Variable.__getattr__\u001b[1;34m()\u001b[0m\n",
      "\u001b[1;32mnetCDF4\\_netCDF4.pyx\u001b[0m in \u001b[0;36mnetCDF4._netCDF4.Variable.getncattr\u001b[1;34m()\u001b[0m\n",
      "\u001b[1;32mnetCDF4\\_netCDF4.pyx\u001b[0m in \u001b[0;36mnetCDF4._netCDF4._get_att\u001b[1;34m()\u001b[0m\n",
      "\u001b[1;32mnetCDF4\\_netCDF4.pyx\u001b[0m in \u001b[0;36mnetCDF4._netCDF4._ensure_nc_success\u001b[1;34m()\u001b[0m\n",
      "\u001b[1;31mAttributeError\u001b[0m: NetCDF: Attribute not found"
     ]
    }
   ],
   "source": [
    "for i in nc.variables:\n",
    "    print(i, nc.variables[i].units, nc.variables[i].shape)"
   ]
  },
  {
   "cell_type": "code",
   "execution_count": 10,
   "metadata": {},
   "outputs": [],
   "source": [
    "date = nc.variables[\"time\"][:]\n",
    "date_bnd = nc.variables[\"time_bnds\"][:]\n",
    "CO2_flux = nc.variables[\"CO2_flux\"][:]\n",
    "pCO2 = nc.variables[\"PCO2\"][:]\n",
    "lat = nc.variables[\"lat\"][:]\n",
    "lon = nc.variables[\"lon\"][:]"
   ]
  },
  {
   "cell_type": "code",
   "execution_count": 11,
   "metadata": {},
   "outputs": [
    {
     "data": {
      "text/plain": [
       "masked_array(data=[  15.5,   45. ,   74.5,  105. ,  135.5,  166. ,  196.5,\n",
       "                    227.5,  258. ,  288.5,  319. ,  349.5,  380.5,  410. ,\n",
       "                    439.5,  470. ,  500.5,  531. ,  561.5,  592.5,  623. ,\n",
       "                    653.5,  684. ,  714.5,  745.5,  775.5,  805.5,  836. ,\n",
       "                    866.5,  897. ,  927.5,  958.5,  989. , 1019.5, 1050. ,\n",
       "                   1080.5, 1111.5, 1141. , 1170.5, 1201. , 1231.5, 1262. ,\n",
       "                   1292.5, 1323.5, 1354. , 1384.5, 1415. , 1445.5, 1476.5,\n",
       "                   1506. , 1535.5, 1566. , 1596.5, 1627. , 1657.5, 1688.5,\n",
       "                   1719. , 1749.5, 1780. , 1810.5],\n",
       "             mask=False,\n",
       "       fill_value=1e+20)"
      ]
     },
     "execution_count": 11,
     "metadata": {},
     "output_type": "execute_result"
    }
   ],
   "source": [
    "date"
   ]
  },
  {
   "cell_type": "code",
   "execution_count": 12,
   "metadata": {},
   "outputs": [
    {
     "ename": "TypeError",
     "evalue": "unhashable type: 'MaskedArray'",
     "output_type": "error",
     "traceback": [
      "\u001b[1;31m---------------------------------------------------------------------------\u001b[0m",
      "\u001b[1;31mTypeError\u001b[0m                                 Traceback (most recent call last)",
      "\u001b[1;32m<ipython-input-12-e4adafd6ee50>\u001b[0m in \u001b[0;36m<module>\u001b[1;34m\u001b[0m\n\u001b[1;32m----> 1\u001b[1;33m \u001b[0mdata\u001b[0m \u001b[1;33m=\u001b[0m \u001b[1;33m{\u001b[0m\u001b[0mdate\u001b[0m\u001b[1;33m,\u001b[0m \u001b[0mCO2_flux\u001b[0m\u001b[1;33m,\u001b[0m \u001b[0mpCO2\u001b[0m\u001b[1;33m,\u001b[0m \u001b[0mlat\u001b[0m\u001b[1;33m,\u001b[0m \u001b[0mlon\u001b[0m\u001b[1;33m}\u001b[0m\u001b[1;33m\u001b[0m\u001b[1;33m\u001b[0m\u001b[0m\n\u001b[0m\u001b[0;32m      2\u001b[0m \u001b[0mapi\u001b[0m \u001b[1;33m=\u001b[0m \u001b[0mpd\u001b[0m\u001b[1;33m.\u001b[0m\u001b[0mDataFrame\u001b[0m\u001b[1;33m(\u001b[0m\u001b[0mdata\u001b[0m\u001b[1;33m,\u001b[0m \u001b[0mcolumns\u001b[0m \u001b[1;33m=\u001b[0m \u001b[1;33m(\u001b[0m\u001b[1;34m\"Date\"\u001b[0m\u001b[1;33m,\u001b[0m \u001b[1;34m\"CO2_flux\"\u001b[0m\u001b[1;33m,\u001b[0m \u001b[1;34m\"pCO2\"\u001b[0m\u001b[1;33m,\u001b[0m \u001b[1;34m\"lat\"\u001b[0m\u001b[1;33m,\u001b[0m \u001b[1;34m\"lon\"\u001b[0m\u001b[1;33m)\u001b[0m\u001b[1;33m)\u001b[0m\u001b[1;33m\u001b[0m\u001b[1;33m\u001b[0m\u001b[0m\n",
      "\u001b[1;31mTypeError\u001b[0m: unhashable type: 'MaskedArray'"
     ]
    }
   ],
   "source": [
    "data = {date, CO2_flux, pCO2, lat, lon}\n",
    "api = pd.DataFrame(data, columns = (\"Date\", \"CO2_flux\", \"pCO2\", \"lat\", \"lon\"))"
   ]
  },
  {
   "cell_type": "code",
   "execution_count": null,
   "metadata": {},
   "outputs": [],
   "source": []
  }
 ],
 "metadata": {
  "kernelspec": {
   "display_name": "Python 3",
   "language": "python",
   "name": "python3"
  },
  "language_info": {
   "codemirror_mode": {
    "name": "ipython",
    "version": 3
   },
   "file_extension": ".py",
   "mimetype": "text/x-python",
   "name": "python",
   "nbconvert_exporter": "python",
   "pygments_lexer": "ipython3",
   "version": "3.7.4"
  }
 },
 "nbformat": 4,
 "nbformat_minor": 4
}
